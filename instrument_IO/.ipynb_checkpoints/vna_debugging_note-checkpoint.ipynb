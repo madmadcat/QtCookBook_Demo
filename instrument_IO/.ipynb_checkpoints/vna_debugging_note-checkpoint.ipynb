{
 "cells": [
  {
   "cell_type": "code",
   "execution_count": 22,
   "metadata": {},
   "outputs": [
    {
     "name": "stdout",
     "output_type": "stream",
     "text": [
      "VISA ERROR - An error has occurred!\n",
      "\n",
      "Error information:\n",
      "\tAbbreviation: VI_ERROR_RSRC_NFOUND\n",
      "\tError code: StatusCode.error_resource_not_found\n",
      "\tDescription: Insufficient location information or the requested device or resource is not present in the system.\n"
     ]
    }
   ],
   "source": [
    "import pyvisa as visa\n",
    "\n",
    "VISA_ADDRESS = 'TCPIP0::192.168.1.3::inst0::INSTR'\n",
    "VISA_ADDRESS = 'USB0::0x0957::0x0D09::MY46632905::0::INSTR'\n",
    "\n",
    "def exceptionHandler(exception):\n",
    "\n",
    "    print(\n",
    "        'Error information:\\n\\tAbbreviation: %s\\n\\tError code: %s\\n\\tDescription: %s' %\n",
    "        (exception.abbreviation, exception.error_code, exception.description))\n",
    "\n",
    "resourceManager = visa.ResourceManager()\n",
    "\n",
    "try:\n",
    "    session = resourceManager.open_resource(VISA_ADDRESS)\n",
    "except visa.VisaIOError as ex:\n",
    "    print('VISA ERROR - An error has occurred!\\n')\n",
    "    exceptionHandler(ex)\n"
   ]
  },
  {
   "cell_type": "code",
   "execution_count": null,
   "metadata": {},
   "outputs": [],
   "source": [
    "VISA_ADDRESS = 'TCPIP0::192.168.1.3::inst0::INSTR'\n",
    "session = resourceManager.open_resource(VISA_ADDRESS)\n",
    "\n",
    "try:\n",
    "    session.write('*IND?')\n",
    "except visa.VisaIOError as ex2:\n",
    "    print(\n",
    "        'VISA ERROR - You\\'ll never get here, because the *IND? data will get sent to the instrument successfully, '\n",
    "        'it\\'s the instrument that won\\'t like it.')\n",
    "    \n"
   ]
  },
  {
   "cell_type": "code",
   "execution_count": null,
   "metadata": {},
   "outputs": [],
   "source": [
    "try:\n",
    "    idnResponse = session.read()\n",
    "    print('*IDN? returned: %s\\n' % idnResponse)\n",
    "except visa.VisaIOError as ex3:\n",
    "    print(\n",
    "        'VISA ERROR - The read call will timeout, because the instrument doesn\\'t'\n",
    "        ' know what to do with the command that we sent it.')"
   ]
  },
  {
   "cell_type": "code",
   "execution_count": null,
   "metadata": {},
   "outputs": [],
   "source": [
    "# Check the instrument to see if it has any errors in its queue\n",
    "rawError = ''\n",
    "errorCode = -1\n",
    "\n",
    "while errorCode != 0:\n",
    "    session.write('SYST:ERR?')\n",
    "    rawError = session.read()\n",
    "\n",
    "    errorParts = rawError.split(',')\n",
    "    errorCode = int(errorParts[0])\n",
    "    errorMessage = errorParts[1].rstrip('\\n')\n",
    "\n",
    "    print(\n",
    "        'INSTRUMENT ERROR - Error code: %d, error message: %s' %\n",
    "        (errorCode, errorMessage))"
   ]
  },
  {
   "cell_type": "code",
   "execution_count": null,
   "metadata": {},
   "outputs": [],
   "source": [
    "session.close()\n",
    "resourceManager.close()\n",
    "\n",
    "print('Done.')"
   ]
  }
 ],
 "metadata": {
  "kernelspec": {
   "display_name": "Python 3",
   "language": "python",
   "name": "python3"
  },
  "language_info": {
   "codemirror_mode": {
    "name": "ipython",
    "version": 3
   },
   "file_extension": ".py",
   "mimetype": "text/x-python",
   "name": "python",
   "nbconvert_exporter": "python",
   "pygments_lexer": "ipython3",
   "version": "3.7.9"
  }
 },
 "nbformat": 4,
 "nbformat_minor": 4
}
