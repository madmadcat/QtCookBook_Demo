{
 "cells": [
  {
   "cell_type": "code",
   "execution_count": 1,
   "metadata": {},
   "outputs": [],
   "source": [
    "import pyvisa as visa\n",
    "\n",
    "VISA_ADDRESS = 'TCPIP0::192.168.1.3::inst0::INSTR'\n",
    "#VISA_ADDRESS = 'USB0::0x0957::0x0D09::MY46632905::0::INSTR'\n",
    "\n",
    "def exceptionHandler(exception):\n",
    "\n",
    "    print(f'{exception}')\n",
    "\n",
    "resourceManager = visa.ResourceManager()\n",
    "\n",
    "try:\n",
    "    session = resourceManager.open_resource(VISA_ADDRESS)\n",
    "except visa.VisaIOError as ex:\n",
    "    print('VISA ERROR - An error has occurred!\\n')\n",
    "    exceptionHandler(ex)\n"
   ]
  },
  {
   "cell_type": "code",
   "execution_count": 7,
   "metadata": {},
   "outputs": [],
   "source": [
    "#session.timeout\n",
    "#session.write_termination\n",
    "#session.read_termination\n",
    "#session.clear()\n",
    "#session.close()\n",
    "#resourceManager.close()"
   ]
  },
  {
   "cell_type": "code",
   "execution_count": 27,
   "metadata": {},
   "outputs": [],
   "source": [
    "#VISA_ADDRESS = 'TCPIP0::192.168.1.3::inst0::INSTR'\n",
    "#session = resourceManager.open_resource(VISA_ADDRESS)\n",
    "\n",
    "try:\n",
    "    session.write('*STB?')\n",
    "except visa.VisaIOError as ex2:\n",
    "    exceptionHandler(ex2)\n"
   ]
  },
  {
   "cell_type": "code",
   "execution_count": 28,
   "metadata": {},
   "outputs": [
    {
     "name": "stdout",
     "output_type": "stream",
     "text": [
      "*IDN? returned: +0\n",
      "\n",
      "\n"
     ]
    }
   ],
   "source": [
    "# Try to read the response (*IND ?)\n",
    "try:\n",
    "    idnResponse = session.read()\n",
    "    print('*IDN? returned: %s\\n' % idnResponse)\n",
    "except visa.VisaIOError as ex3:\n",
    "    exceptionHandler(ex3)"
   ]
  },
  {
   "cell_type": "code",
   "execution_count": 25,
   "metadata": {},
   "outputs": [],
   "source": [
    "try:\n",
    "    session.read_stb\n",
    "except visa.VisaIOError as ex4:\n",
    "    exceptionHandler(ex4)"
   ]
  },
  {
   "cell_type": "code",
   "execution_count": 26,
   "metadata": {},
   "outputs": [
    {
     "name": "stdout",
     "output_type": "stream",
     "text": [
      "INSTRUMENT ERROR - Error code: 0, error message: \"No error\"\n"
     ]
    }
   ],
   "source": [
    "# Check the instrument to see if it has any errors in its queue\n",
    "rawError = ''\n",
    "errorCode = -1\n",
    "\n",
    "while errorCode != 0:\n",
    "    session.write('SYST:ERR?')\n",
    "    rawError = session.read()\n",
    "    \n",
    "    #print(rawError)\n",
    "    errorParts = rawError.split(',')\n",
    "    errorCode = int(errorParts[0])\n",
    "    errorMessage = errorParts[1].rstrip('\\n')\n",
    "\n",
    "    print(\n",
    "        'INSTRUMENT ERROR - Error code: %d, error message: %s' %\n",
    "        (errorCode, errorMessage))"
   ]
  },
  {
   "cell_type": "code",
   "execution_count": 31,
   "metadata": {},
   "outputs": [
    {
     "name": "stdout",
     "output_type": "stream",
     "text": [
      "Done.\n"
     ]
    }
   ],
   "source": [
    "session.close()\n",
    "resourceManager.close()\n",
    "\n",
    "print('Done.')"
   ]
  },
  {
   "cell_type": "markdown",
   "metadata": {},
   "source": [
    "# Tips\n",
    "- session.clear ??\n",
    "```\n",
    "clear() -> None method of pyvisa.resources.tcpip.TCPIPInstrument instance\n",
    "    Clear this resource.\n",
    "```\n",
    "- session.query(str, delay=0.5) ; default: 0.0\n",
    "```\n",
    "query(message: str, delay: Union[float, NoneType] = None) -> str method of pyvisa.resources.tcpip.TCPIPInstrument instance\n",
    "    A combination of write(message) and read()\n",
    "    \n",
    "    Parameters\n",
    "    ----------\n",
    "    message : str\n",
    "        The message to send.\n",
    "    delay : Optional[float], optional\n",
    "        Delay in seconds between write and read operations. If None,\n",
    "        defaults to self.query_delay.\n",
    "    \n",
    "    Returns\n",
    "    -------\n",
    "    str\n",
    "        Answer from the device.\n",
    "```"
   ]
  },
  {
   "cell_type": "markdown",
   "metadata": {},
   "source": [
    "- session.read_termination = None (default)\n",
    "- session.write_termination = '\\r\\n' (default)\n",
    "- session.timeout = 2000 (default :ms)\n",
    "- TCP address 支持多个sessions"
   ]
  },
  {
   "cell_type": "markdown",
   "metadata": {},
   "source": [
    "- session.set_visa_attribute\n",
    "```\n",
    "set_visa_attribute(name: pyvisa.constants.ResourceAttribute, state: Any) -> pyvisa.constants.StatusCode method of pyvisa.resources.tcpip.TCPIPInstrument instance\n",
    "    Set the state of an attribute.\n",
    "    \n",
    "    One should prefer the dedicated descriptor for often used attributes\n",
    "    since those perform checks and automatic conversion on the value.\n",
    "    \n",
    "    Parameters\n",
    "    ----------\n",
    "    name : constants.ResourceAttribute\n",
    "        Attribute for which the state is to be modified.\n",
    "    state : Any\n",
    "        The state of the attribute to be set for the specified object.\n",
    "    \n",
    "    Returns\n",
    "    -------\n",
    "    constants.StatusCode\n",
    "        Return value of the library call.\n",
    "```"
   ]
  },
  {
   "cell_type": "markdown",
   "metadata": {},
   "source": [
    "- SYST:ERR?\n",
    "```\n",
    "INSTRUMENT ERROR - Error code: -113, error message: \"Undefined header\"\n",
    "INSTRUMENT ERROR - Error code: -420, error message: \"Query UNTERMINATED\"\n",
    "INSTRUMENT ERROR - Error code: 0, error message: \"No error\"\n",
    "```\n",
    "rawError\n",
    "```\n",
    "-410,\"Query INTERRUPTED\"\n",
    "\n",
    "-113,\"Undefined header\"\n",
    "\n",
    "-420,\"Query UNTERMINATED\"\n",
    "\n",
    "+0,\"No error\"\n",
    "\n",
    "+0,\"No error\"\n",
    "\n",
    "```"
   ]
  },
  {
   "cell_type": "markdown",
   "metadata": {},
   "source": [
    "- read timeout 不会刷新系统寄存器，异常写操作会引起蜂鸣，并刷新错误寄存器\n",
    "- read 应当放在子线程运行，并且可终止"
   ]
  }
 ],
 "metadata": {
  "kernelspec": {
   "display_name": "Python 3",
   "language": "python",
   "name": "python3"
  },
  "language_info": {
   "codemirror_mode": {
    "name": "ipython",
    "version": 3
   },
   "file_extension": ".py",
   "mimetype": "text/x-python",
   "name": "python",
   "nbconvert_exporter": "python",
   "pygments_lexer": "ipython3",
   "version": "3.7.9"
  }
 },
 "nbformat": 4,
 "nbformat_minor": 4
}
