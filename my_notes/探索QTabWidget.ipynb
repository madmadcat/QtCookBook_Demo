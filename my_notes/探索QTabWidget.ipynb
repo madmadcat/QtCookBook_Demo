{
 "cells": [
  {
   "cell_type": "code",
   "execution_count": 1,
   "metadata": {},
   "outputs": [
    {
     "ename": "SystemExit",
     "evalue": "0",
     "output_type": "error",
     "traceback": [
      "An exception has occurred, use %tb to see the full traceback.\n",
      "\u001B[0;31mSystemExit\u001B[0m\u001B[0;31m:\u001B[0m 0\n"
     ]
    },
    {
     "name": "stderr",
     "output_type": "stream",
     "text": [
      "/Library/Frameworks/Python.framework/Versions/3.7/lib/python3.7/site-packages/IPython/core/interactiveshell.py:3426: UserWarning: To exit: use 'exit', 'quit', or Ctrl-D.\n",
      "  warn(\"To exit: use 'exit', 'quit', or Ctrl-D.\", stacklevel=1)\n"
     ]
    }
   ],
   "source": [
    "import sys\n",
    "\n",
    "from PyQt5.QtWidgets import (\n",
    "    QApplication,\n",
    "    QCheckBox,\n",
    "    QTabWidget,\n",
    "    QVBoxLayout,\n",
    "    QWidget\n",
    ")\n",
    "\n",
    "class Window(QWidget):\n",
    "    \"\"\"探索QTabWidget\n",
    "    \"\"\"\n",
    "    \n",
    "    def __init__(self):\n",
    "        \"\"\"构造器\n",
    "        \"\"\"\n",
    "        super().__init__()\n",
    "        self.setWindowTitle(\"QTabWidget Example\")\n",
    "        self.resize(300, 100)\n",
    "        # Create a top layout\n",
    "        layout = QVBoxLayout()\n",
    "        self.setLayout(layout)\n",
    "        # Create the tab widget with two tabs\n",
    "        tabs = QTabWidget()\n",
    "        tabs.addTab(self.generalTabUI(), \"General\")\n",
    "        tabs.addTab(self.networkTabUI(), \"Network\")\n",
    "        layout.addWidget(tabs)\n",
    "        \n",
    "    def generalTabUI(self):\n",
    "        \"\"\"创建一个QWidget对象，包含两个checkbox\n",
    "        @return：QWidget对象\n",
    "        \"\"\"\n",
    "        generalTab = QWidget()\n",
    "        layout = QVBoxLayout()\n",
    "        layout.addWidget(QCheckBox(\"General Option 1\"))\n",
    "        layout.addWidget(QCheckBox(\"General Option 2\"))\n",
    "        generalTab.setLayout(layout)\n",
    "        return generalTab\n",
    "    \n",
    "    def networkTabUI(self):\n",
    "        \"\"\"创建一个QWidget对象，包含两个checkbox\n",
    "        @return：QWidget对象\n",
    "        \"\"\"\n",
    "        networkTab = QWidget()\n",
    "        layout = QVBoxLayout()\n",
    "        layout.addWidget(QCheckBox(\"Network Option 1\"))\n",
    "        layout.addWidget(QCheckBox(\"Network Option 2\"))\n",
    "        networkTab.setLayout(layout)\n",
    "        return networkTab\n",
    "        \n",
    "if __name__ == '__main__':\n",
    "    app = QApplication(sys.argv)\n",
    "    window = Window()\n",
    "    window.show()\n",
    "    sys.exit(app.exec_())"
   ]
  }
 ],
 "metadata": {
  "kernelspec": {
   "display_name": "Python 3",
   "language": "python",
   "name": "python3"
  },
  "language_info": {
   "codemirror_mode": {
    "name": "ipython",
    "version": 3
   },
   "file_extension": ".py",
   "mimetype": "text/x-python",
   "name": "python",
   "nbconvert_exporter": "python",
   "pygments_lexer": "ipython3",
   "version": "3.7.9"
  }
 },
 "nbformat": 4,
 "nbformat_minor": 4
}